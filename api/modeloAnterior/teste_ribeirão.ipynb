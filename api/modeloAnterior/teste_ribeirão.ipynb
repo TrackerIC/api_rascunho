{
 "cells": [
  {
   "cell_type": "code",
   "execution_count": 56,
   "metadata": {},
   "outputs": [],
   "source": [
    "import numpy as np\n",
    "import pandas as pd\n",
    "import tensorflow as tf\n",
    "from sklearn.model_selection import train_test_split\n",
    "from sklearn.preprocessing import MinMaxScaler\n",
    "from keras import backend as K\n",
    "import matplotlib.pyplot as plt\n",
    "import os\n",
    "import random\n",
    "from tensorflow.keras.layers import Dense, LSTM, Attention, Input"
   ]
  },
  {
   "cell_type": "code",
   "execution_count": 57,
   "metadata": {},
   "outputs": [],
   "source": [
    "SEED = 42\n",
    "def set_seeds(seed=SEED):\n",
    "    os.environ['PYTHONHASHSEED'] = str(seed)\n",
    "    random.seed(seed)\n",
    "    tf.random.set_seed(seed)\n",
    "    np.random.seed(seed)\n",
    "def set_global_determinism(seed=SEED):\n",
    "    set_seeds(seed=seed)\n",
    "\n",
    "    os.environ['TF_DETERMINISTIC_OPS'] = '1'\n",
    "    os.environ['TF_CUDNN_DETERMINISTIC'] = '1'\n",
    "    \n",
    "    tf.config.threading.set_inter_op_parallelism_threads(1)\n",
    "    tf.config.threading.set_intra_op_parallelism_threads(1)\n",
    "\n",
    "# # Call the above function with seed value\n",
    "set_global_determinism(seed=SEED)"
   ]
  },
  {
   "cell_type": "code",
   "execution_count": 58,
   "metadata": {},
   "outputs": [],
   "source": [
    "# tf.random.set_seed(0)\n",
    "layers = (32,32)\n",
    "function = 'elu'\n",
    "saidaFunction = 'elu'\n",
    "batch = 32\n",
    "learningRate = 0.001\n",
    "epocas = 1000\n",
    "iterNochange = 10"
   ]
  },
  {
   "cell_type": "code",
   "execution_count": 59,
   "metadata": {},
   "outputs": [
    {
     "data": {
      "text/plain": [
       "0    0.174908\n",
       "1    0.343454\n",
       "2    0.567474\n",
       "3    0.557986\n",
       "4    0.199353\n",
       "Name: Daily Power yields (kWh), dtype: float64"
      ]
     },
     "execution_count": 59,
     "metadata": {},
     "output_type": "execute_result"
    }
   ],
   "source": [
    "# Importando os dados de energia\n",
    "Data = pd.read_csv(\"dados_diarios_14Nov_outliers.csv\")\n",
    "Data.columns = Data.columns.str.strip()\n",
    "Data_Power = Data[\"Daily Power yields (kWh)\"].dropna()\n",
    "Data_Power_desn = Data_Power\n",
    "\n",
    "scaler = MinMaxScaler()\n",
    "data = Data_Power.values\n",
    "data = data.reshape(-1, 1)\n",
    "normalized_data = scaler.fit_transform(data)\n",
    "Data_Power = pd.Series(\n",
    "    [value for row in normalized_data for value in row], name=\"Daily Power yields (kWh)\"\n",
    ")\n",
    "\n",
    "\n",
    "Data_Power.head()"
   ]
  },
  {
   "cell_type": "code",
   "execution_count": 60,
   "metadata": {},
   "outputs": [],
   "source": [
    "Data_Power_train = Data_Power[:-6]"
   ]
  },
  {
   "cell_type": "code",
   "execution_count": 61,
   "metadata": {},
   "outputs": [
    {
     "name": "stdout",
     "output_type": "stream",
     "text": [
      "(115, 3)\n",
      "(115, 1)\n"
     ]
    }
   ],
   "source": [
    "X = pd.concat([Data_Power_train.shift(1), Data_Power_train.shift(2), Data_Power_train.shift(3),], axis=1)\n",
    "y = pd.concat([Data_Power_train.shift(-3)], axis=1)\n",
    "X.dropna(inplace=True)\n",
    "y.dropna(subset=[\"Daily Power yields (kWh)\"], inplace=True)\n",
    "print(X.shape)\n",
    "print(y.shape)\n",
    "X = X.to_numpy()\n",
    "y = y.to_numpy()\n",
    "y = y.flatten()\n",
    "X_train, X_val, y_train, y_val = train_test_split(\n",
    "    X, y, test_size=0.1, shuffle=False, stratify=None\n",
    ")"
   ]
  },
  {
   "cell_type": "code",
   "execution_count": 62,
   "metadata": {},
   "outputs": [
    {
     "name": "stdout",
     "output_type": "stream",
     "text": [
      "Model: \"model\"\n",
      "_________________________________________________________________\n",
      " Layer (type)                Output Shape              Param #   \n",
      "=================================================================\n",
      " input_1 (InputLayer)        [(None, 3)]               0         \n",
      "                                                                 \n",
      " dense (Dense)               (None, 32)                128       \n",
      "                                                                 \n",
      " dense_1 (Dense)             (None, 32)                1056      \n",
      "                                                                 \n",
      " dense_2 (Dense)             (None, 1)                 33        \n",
      "                                                                 \n",
      "=================================================================\n",
      "Total params: 1217 (4.75 KB)\n",
      "Trainable params: 0 (0.00 Byte)\n",
      "Non-trainable params: 1217 (4.75 KB)\n",
      "_________________________________________________________________\n",
      "None\n"
     ]
    }
   ],
   "source": [
    "model = tf.keras.models.load_model('modelo_australia.h5')\n",
    "model.trainable = False\n",
    "print(model.summary())"
   ]
  },
  {
   "cell_type": "code",
   "execution_count": 63,
   "metadata": {},
   "outputs": [],
   "source": [
    "for layer in model.layers:\n",
    "    layer.trainable = False"
   ]
  },
  {
   "cell_type": "code",
   "execution_count": 64,
   "metadata": {},
   "outputs": [
    {
     "name": "stdout",
     "output_type": "stream",
     "text": [
      "Model: \"model_2\"\n",
      "_________________________________________________________________\n",
      " Layer (type)                Output Shape              Param #   \n",
      "=================================================================\n",
      " input_1 (InputLayer)        [(None, 3)]               0         \n",
      "                                                                 \n",
      " dense (Dense)               (None, 32)                128       \n",
      "                                                                 \n",
      " dense_1 (Dense)             (None, 32)                1056      \n",
      "                                                                 \n",
      " output (Dense)              (None, 1)                 33        \n",
      "                                                                 \n",
      "=================================================================\n",
      "Total params: 1217 (4.75 KB)\n",
      "Trainable params: 33 (132.00 Byte)\n",
      "Non-trainable params: 1184 (4.62 KB)\n",
      "_________________________________________________________________\n",
      "weights: 0\n",
      "trainable_weights: 0\n",
      "non_trainable_weights: 0\n",
      "weights: 2\n",
      "trainable_weights: 0\n",
      "non_trainable_weights: 2\n",
      "weights: 2\n",
      "trainable_weights: 0\n",
      "non_trainable_weights: 2\n",
      "weights: 2\n",
      "trainable_weights: 2\n",
      "non_trainable_weights: 0\n"
     ]
    }
   ],
   "source": [
    "base_inputs = model.layers[0].input\n",
    "base_outputs = model.layers[-2].output\n",
    "\n",
    "output = Dense(1, name='output')(base_outputs)\n",
    "new_model = tf.keras.Model(inputs=base_inputs, outputs=output)\n",
    "new_model.summary()\n",
    "\n",
    "\n",
    "for layer in new_model.layers:\n",
    "    print(\"weights:\", len(layer.weights))\n",
    "    print(\"trainable_weights:\", len(layer.trainable_weights))\n",
    "    print(\"non_trainable_weights:\", len(layer.non_trainable_weights))\n",
    "\n"
   ]
  },
  {
   "cell_type": "code",
   "execution_count": 65,
   "metadata": {},
   "outputs": [],
   "source": [
    "y_train = np.array(y_train).astype('float32')"
   ]
  },
  {
   "cell_type": "code",
   "execution_count": 66,
   "metadata": {},
   "outputs": [
    {
     "name": "stdout",
     "output_type": "stream",
     "text": [
      "Epoch 1/20\n"
     ]
    },
    {
     "name": "stdout",
     "output_type": "stream",
     "text": [
      "3/3 [==============================] - 0s 49ms/step - loss: 0.1608 - val_loss: 0.1717\n",
      "Epoch 2/20\n",
      "3/3 [==============================] - 0s 10ms/step - loss: 0.1501 - val_loss: 0.1629\n",
      "Epoch 3/20\n",
      "3/3 [==============================] - 0s 14ms/step - loss: 0.1397 - val_loss: 0.1547\n",
      "Epoch 4/20\n",
      "3/3 [==============================] - 0s 15ms/step - loss: 0.1298 - val_loss: 0.1470\n",
      "Epoch 5/20\n",
      "3/3 [==============================] - 0s 14ms/step - loss: 0.1203 - val_loss: 0.1397\n",
      "Epoch 6/20\n",
      "3/3 [==============================] - 0s 10ms/step - loss: 0.1118 - val_loss: 0.1328\n",
      "Epoch 7/20\n",
      "3/3 [==============================] - 0s 11ms/step - loss: 0.1034 - val_loss: 0.1266\n",
      "Epoch 8/20\n",
      "3/3 [==============================] - 0s 10ms/step - loss: 0.0956 - val_loss: 0.1209\n",
      "Epoch 9/20\n",
      "3/3 [==============================] - 0s 10ms/step - loss: 0.0883 - val_loss: 0.1157\n",
      "Epoch 10/20\n",
      "3/3 [==============================] - 0s 10ms/step - loss: 0.0817 - val_loss: 0.1109\n",
      "Epoch 11/20\n",
      "3/3 [==============================] - 0s 11ms/step - loss: 0.0756 - val_loss: 0.1066\n",
      "Epoch 12/20\n",
      "3/3 [==============================] - 0s 10ms/step - loss: 0.0700 - val_loss: 0.1029\n",
      "Epoch 13/20\n",
      "3/3 [==============================] - 0s 10ms/step - loss: 0.0649 - val_loss: 0.0995\n",
      "Epoch 14/20\n",
      "3/3 [==============================] - 0s 11ms/step - loss: 0.0601 - val_loss: 0.0966\n",
      "Epoch 15/20\n",
      "3/3 [==============================] - 0s 10ms/step - loss: 0.0560 - val_loss: 0.0940\n",
      "Epoch 16/20\n",
      "3/3 [==============================] - 0s 10ms/step - loss: 0.0523 - val_loss: 0.0917\n",
      "Epoch 17/20\n",
      "3/3 [==============================] - 0s 11ms/step - loss: 0.0489 - val_loss: 0.0898\n",
      "Epoch 18/20\n",
      "3/3 [==============================] - 0s 10ms/step - loss: 0.0457 - val_loss: 0.0882\n",
      "Epoch 19/20\n",
      "3/3 [==============================] - 0s 10ms/step - loss: 0.0433 - val_loss: 0.0868\n",
      "Epoch 20/20\n",
      "3/3 [==============================] - 0s 10ms/step - loss: 0.0406 - val_loss: 0.0857\n"
     ]
    },
    {
     "name": "stderr",
     "output_type": "stream",
     "text": [
      "c:\\Users\\crist\\AppData\\Local\\Programs\\Python\\Python310\\lib\\site-packages\\keras\\src\\engine\\training.py:3079: UserWarning: You are saving your model as an HDF5 file via `model.save()`. This file format is considered legacy. We recommend using instead the native Keras format, e.g. `model.save('my_model.keras')`.\n",
      "  saving_api.save_model(\n"
     ]
    },
    {
     "data": {
      "image/png": "[encoded data removed]",
      "text/plain": [
       "<Figure size 432x288 with 1 Axes>"
      ]
     },
     "metadata": {
      "needs_background": "light"
     },
     "output_type": "display_data"
    }
   ],
   "source": [
    "new_model.compile(optimizer='adam', loss='mean_squared_error')\n",
    "\n",
    "\n",
    "history = new_model.fit(X_train, y_train, epochs=20, batch_size=32, validation_split=0.3)\n",
    "new_model.save('modelo_seed42.h5')\n",
    "# Plotar a curva de aprendizado\n",
    "plt.plot(history.history['loss'], label='Training Loss')\n",
    "if 'val_loss' in history.history:\n",
    "    plt.plot(history.history['val_loss'], label='Validation Loss')\n",
    "plt.title('Curva de Aprendizado')\n",
    "plt.xlabel('Épocas')\n",
    "plt.ylabel('Loss')\n",
    "plt.legend()\n",
    "plt.show()"
   ]
  },
  {
   "cell_type": "code",
   "execution_count": 67,
   "metadata": {},
   "outputs": [
    {
     "data": {
      "text/plain": [
       "114    0.997768\n",
       "115    1.000000\n",
       "116    0.953901\n",
       "117    0.849090\n",
       "118    0.429289\n",
       "119    0.525505\n",
       "120    0.851211\n",
       "121    0.461882\n",
       "122    0.510325\n",
       "123    0.510325\n",
       "Name: Daily Power yields (kWh), dtype: float64"
      ]
     },
     "execution_count": 67,
     "metadata": {},
     "output_type": "execute_result"
    }
   ],
   "source": [
    "Data_Power[-10:]"
   ]
  },
  {
   "cell_type": "code",
   "execution_count": 68,
   "metadata": {},
   "outputs": [
    {
     "data": {
      "text/plain": [
       "118    0.429289\n",
       "119    0.525505\n",
       "120    0.851211\n",
       "Name: Daily Power yields (kWh), dtype: float64"
      ]
     },
     "execution_count": 68,
     "metadata": {},
     "output_type": "execute_result"
    }
   ],
   "source": [
    "Data_Power[-6:-3]"
   ]
  },
  {
   "cell_type": "code",
   "execution_count": 69,
   "metadata": {},
   "outputs": [],
   "source": [
    "previsoes = []"
   ]
  },
  {
   "cell_type": "code",
   "execution_count": 70,
   "metadata": {},
   "outputs": [
    {
     "name": "stdout",
     "output_type": "stream",
     "text": [
      "(1, 3)\n",
      "WARNING:tensorflow:5 out of the last 11 calls to <function Model.make_predict_function.<locals>.predict_function at 0x00000274CB1F0040> triggered tf.function retracing. Tracing is expensive and the excessive number of tracings could be due to (1) creating @tf.function repeatedly in a loop, (2) passing tensors with different shapes, (3) passing Python objects instead of tensors. For (1), please define your @tf.function outside of the loop. For (2), @tf.function has reduce_retracing=True option that can avoid unnecessary retracing. For (3), please refer to https://www.tensorflow.org/guide/function#controlling_retracing and https://www.tensorflow.org/api_docs/python/tf/function for  more details.\n",
      "1/1 [==============================] - 0s 52ms/step\n",
      "Previsão: [856.9873] +/- [21.21269531]\n",
      "Era para prever: [878.2]\n"
     ]
    }
   ],
   "source": [
    "vetorlag_cego1 = Data_Power[-6:-3]\n",
    "\n",
    "vetorlag_cego1 = np.array(vetorlag_cego1).reshape(1,-1)\n",
    "print(vetorlag_cego1.shape)\n",
    "\n",
    "# print(\"Entrada para ser previsto o próximo do test às cegas: \\n\")\n",
    "# print(vetorlag_cego)\n",
    "# print(vetorlag_cego.shape)\n",
    "\n",
    "output_cego1_n = new_model.predict(vetorlag_cego1)\n",
    "output_cego1 = scaler.inverse_transform(output_cego1_n)\n",
    "\n",
    "previsoes.append(output_cego1[0].tolist())\n",
    "\n",
    "rmse = np.array(((output_cego1[0] - Data_Power_desn[-3:-2])**2)**0.5)\n",
    "\n",
    "print(f'Previsão: {output_cego1[0]} +/- {rmse}')\n",
    "print(f\"Era para prever: {Data_Power_desn[-3:-2].values}\")"
   ]
  },
  {
   "cell_type": "code",
   "execution_count": 71,
   "metadata": {},
   "outputs": [
    {
     "name": "stdout",
     "output_type": "stream",
     "text": [
      "[[856.9873046875]]\n"
     ]
    }
   ],
   "source": [
    "print(previsoes)"
   ]
  },
  {
   "cell_type": "code",
   "execution_count": 72,
   "metadata": {},
   "outputs": [
    {
     "name": "stdout",
     "output_type": "stream",
     "text": [
      "119    0.525505\n",
      "120    0.851211\n",
      "0      0.438204\n",
      "dtype: float64\n"
     ]
    }
   ],
   "source": [
    "outputcego2 = pd.concat([Data_Power[-5:-3], pd.Series(output_cego1_n.flatten())])\n",
    "print(outputcego2)"
   ]
  },
  {
   "cell_type": "code",
   "execution_count": 73,
   "metadata": {},
   "outputs": [
    {
     "name": "stdout",
     "output_type": "stream",
     "text": [
      "1/1 [==============================] - 0s 21ms/step\n",
      "Previsão: [805.9153] +/- [115.6847168]\n",
      "Era para prever: [921.6]\n"
     ]
    }
   ],
   "source": [
    "vetorlag_cego2 = np.array(outputcego2).reshape(1,-1)\n",
    "output_cego2_n = new_model.predict(vetorlag_cego2)\n",
    "output_cego2 = scaler.inverse_transform(output_cego2_n)\n",
    "\n",
    "previsoes.append(output_cego2[0].tolist())\n",
    "\n",
    "\n",
    "rmse2 = np.array(((output_cego2[0] - Data_Power_desn[-2:-1])**2)**0.5)\n",
    "\n",
    "print(f'Previsão: {output_cego2[0]} +/- {rmse2}')\n",
    "print(f\"Era para prever: {Data_Power_desn[-2:-1].values}\")"
   ]
  },
  {
   "cell_type": "code",
   "execution_count": 74,
   "metadata": {},
   "outputs": [
    {
     "data": {
      "text/plain": [
       "[805.915283203125]"
      ]
     },
     "execution_count": 74,
     "metadata": {},
     "output_type": "execute_result"
    }
   ],
   "source": [
    "output_cego2[0].tolist()"
   ]
  },
  {
   "cell_type": "code",
   "execution_count": 75,
   "metadata": {},
   "outputs": [
    {
     "name": "stdout",
     "output_type": "stream",
     "text": [
      "120    0.851211\n",
      "0      0.438204\n",
      "0      0.381198\n",
      "dtype: float64\n"
     ]
    }
   ],
   "source": [
    "outputcego3 = pd.concat([Data_Power[-4:-3], pd.Series(output_cego1_n.flatten()), pd.Series(output_cego2_n.flatten())])\n",
    "print(outputcego3)"
   ]
  },
  {
   "cell_type": "code",
   "execution_count": 76,
   "metadata": {},
   "outputs": [
    {
     "name": "stdout",
     "output_type": "stream",
     "text": [
      "1/1 [==============================] - 0s 22ms/step\n",
      "Previsão: [916.6662] +/- [4.93380127]\n",
      "Era para prever: [921.6]\n"
     ]
    }
   ],
   "source": [
    "vetorlag_cego3 = np.array(outputcego3).reshape(1,-1)\n",
    "output_cego3_n = new_model.predict(vetorlag_cego3)\n",
    "output_cego3 = scaler.inverse_transform(output_cego3_n)\n",
    "\n",
    "previsoes.append(output_cego3[0].tolist())\n",
    "\n",
    "\n",
    "rmse3 = np.array(((output_cego3[0] - Data_Power_desn[-1:])**2)**0.5)\n",
    "\n",
    "\n",
    "print(f'Previsão: {output_cego3[0]} +/- {rmse3}')\n",
    "print(f\"Era para prever: {Data_Power_desn[-1:].values}\")\n"
   ]
  },
  {
   "cell_type": "code",
   "execution_count": 77,
   "metadata": {},
   "outputs": [
    {
     "name": "stdout",
     "output_type": "stream",
     "text": [
      "[856.98730469 805.9152832  916.66619873]\n"
     ]
    }
   ],
   "source": [
    "previsoes = np.array(previsoes).flatten()\n",
    "print(previsoes)"
   ]
  },
  {
   "cell_type": "code",
   "execution_count": 78,
   "metadata": {},
   "outputs": [
    {
     "name": "stdout",
     "output_type": "stream",
     "text": [
      "121    878.2\n",
      "122    921.6\n",
      "123    921.6\n",
      "Name: Daily Power yields (kWh), dtype: float64\n"
     ]
    }
   ],
   "source": [
    "real = Data_Power_desn[-3:]\n",
    "print(real)\n",
    "\n",
    "real = real.to_list()"
   ]
  },
  {
   "cell_type": "code",
   "execution_count": 79,
   "metadata": {},
   "outputs": [
    {
     "name": "stdout",
     "output_type": "stream",
     "text": [
      "[878.2, 921.6, 921.6]\n"
     ]
    }
   ],
   "source": [
    "print(real)"
   ]
  },
  {
   "cell_type": "code",
   "execution_count": 80,
   "metadata": {},
   "outputs": [
    {
     "data": {
      "image/png": "[encoded data removed]",
      "text/plain": [
       "<Figure size 720x576 with 1 Axes>"
      ]
     },
     "metadata": {
      "needs_background": "light"
     },
     "output_type": "display_data"
    }
   ],
   "source": [
    "plt.figure(figsize=(10,8))\n",
    "plt.plot(real, marker='o', label='Real')\n",
    "plt.plot(previsoes, marker='x', label='Previsto')\n",
    "plt.legend()\n",
    "plt.show()"
   ]
  },
  {
   "cell_type": "code",
   "execution_count": 81,
   "metadata": {},
   "outputs": [
    {
     "name": "stdout",
     "output_type": "stream",
     "text": [
      "WARNING:tensorflow:5 out of the last 11 calls to <function Model.make_predict_function.<locals>.predict_function at 0x00000274CB1F0040> triggered tf.function retracing. Tracing is expensive and the excessive number of tracings could be due to (1) creating @tf.function repeatedly in a loop, (2) passing tensors with different shapes, (3) passing Python objects instead of tensors. For (1), please define your @tf.function outside of the loop. For (2), @tf.function has reduce_retracing=True option that can avoid unnecessary retracing. For (3), please refer to https://www.tensorflow.org/guide/function#controlling_retracing and https://www.tensorflow.org/api_docs/python/tf/function for  more details.\n",
      "1/1 [==============================] - 0s 46ms/step\n",
      "Entrada: [[0.46188191]\n",
      " [0.51032481]\n",
      " [0.51032481]]\n",
      "Previsão: [[791.0299682617188]]\n"
     ]
    }
   ],
   "source": [
    "\n",
    "entrada_lista = [878.2, 921.6, 921.6]\n",
    "entrada_lista = scaler.transform(np.array(entrada_lista).reshape(-1,1))\n",
    "entrada_array = np.array([entrada_lista])\n",
    "previsao = new_model.predict([entrada_array])\n",
    "\n",
    "\n",
    "previsao_lista = scaler.inverse_transform(previsao).tolist()\n",
    "\n",
    "print(f'Entrada: {entrada_lista}')\n",
    "print(f'Previsão: {previsao_lista}')\n",
    "\n"
   ]
  },
  {
   "cell_type": "code",
   "execution_count": 82,
   "metadata": {},
   "outputs": [
    {
     "name": "stdout",
     "output_type": "stream",
     "text": [
      "1/1 [==============================] - 0s 23ms/step\n",
      "Entrada: [[0.46188191]\n",
      " [0.51032481]\n",
      " [0.51032481]]\n",
      "Previsão: [[791.0299682617188]]\n"
     ]
    }
   ],
   "source": [
    "\n",
    "entrada_lista = [878.2, 921.6, 921.6]\n",
    "entrada_lista = scaler.transform(np.array(entrada_lista).reshape(-1,1))\n",
    "entrada_array = np.array([entrada_lista])\n",
    "previsao = new_model.predict([entrada_array])\n",
    "\n",
    "\n",
    "previsao_lista = scaler.inverse_transform(previsao).tolist()\n",
    "\n",
    "print(f'Entrada: {entrada_lista}')\n",
    "print(f'Previsão: {previsao_lista}')\n",
    "\n"
   ]
  },
  {
   "cell_type": "code",
   "execution_count": 83,
   "metadata": {},
   "outputs": [],
   "source": [
    "ultimo_valor_loss = history.history['loss'][-1]\n",
    "# Salvar o último valor de loss em um arquivo\n",
    "with open('ultimo_loss.txt', 'w') as file:\n",
    "    file.write(str(ultimo_valor_loss))\n"
   ]
  },
  {
   "cell_type": "code",
   "execution_count": 84,
   "metadata": {},
   "outputs": [
    {
     "name": "stdout",
     "output_type": "stream",
     "text": [
      "Último valor de loss lido: 0.040635526180267334\n"
     ]
    }
   ],
   "source": [
    "\n",
    "with open('ultimo_loss.txt', 'r') as file:\n",
    "    ultimo_loss_lido = float(file.read())\n",
    "\n",
    "# Agora, você pode usar 'ultimo_loss_lido' no segundo código conforme necessário\n",
    "print(f\"Último valor de loss lido: {ultimo_loss_lido}\")\n"
   ]
  }
 ],
 "metadata": {
  "kernelspec": {
   "display_name": "Python 3",
   "language": "python",
   "name": "python3"
  },
  "language_info": {
   "codemirror_mode": {
    "name": "ipython",
    "version": 3
   },
   "file_extension": ".py",
   "mimetype": "text/x-python",
   "name": "python",
   "nbconvert_exporter": "python",
   "pygments_lexer": "ipython3",
   "version": "3.10.2"
  }
 },
 "nbformat": 4,
 "nbformat_minor": 2
}
