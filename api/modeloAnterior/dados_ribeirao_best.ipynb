{
 "cells": [
  {
   "cell_type": "code",
   "execution_count": 1,
   "metadata": {},
   "outputs": [],
   "source": [
    "import pandas as pd\n",
    "import numpy as np\n",
    "import matplotlib.pyplot as plt\n",
    "from sklearn.preprocessing import MinMaxScaler\n",
    "from keras.optimizers import Adam\n",
    "from tensorflow.keras.models import load_model\n",
    "from tensorflow.keras.models import Model, Sequential\n",
    "from tensorflow.keras.layers import Dense, LSTM, Attention, Input\n",
    "from sklearn.model_selection import train_test_split\n",
    "import tensorflow as tf\n",
    "from tensorflow.keras import layers\n",
    "from tensorflow.keras.datasets import mnist\n",
    "import os\n",
    "import random\n",
    "import joblib"
   ]
  },
  {
   "cell_type": "code",
   "execution_count": 2,
   "metadata": {},
   "outputs": [],
   "source": [
    "SEED = 215\n",
    "def set_seeds(seed=SEED):\n",
    "    os.environ['PYTHONHASHSEED'] = str(seed)\n",
    "    random.seed(seed)\n",
    "    tf.random.set_seed(seed)\n",
    "    np.random.seed(seed)\n",
    "def set_global_determinism(seed=SEED):\n",
    "    set_seeds(seed=seed)\n",
    "\n",
    "    os.environ['TF_DETERMINISTIC_OPS'] = '1'\n",
    "    os.environ['TF_CUDNN_DETERMINISTIC'] = '1'\n",
    "    \n",
    "    tf.config.threading.set_inter_op_parallelism_threads(1)\n",
    "    tf.config.threading.set_intra_op_parallelism_threads(1)\n",
    "\n",
    "# Call the above function with seed value\n",
    "set_global_determinism(seed=SEED)"
   ]
  },
  {
   "cell_type": "code",
   "execution_count": 3,
   "metadata": {},
   "outputs": [
    {
     "data": {
      "text/html": [
       "<div>\n",
       "<style scoped>\n",
       "    .dataframe tbody tr th:only-of-type {\n",
       "        vertical-align: middle;\n",
       "    }\n",
       "\n",
       "    .dataframe tbody tr th {\n",
       "        vertical-align: top;\n",
       "    }\n",
       "\n",
       "    .dataframe thead th {\n",
       "        text-align: right;\n",
       "    }\n",
       "</style>\n",
       "<table border=\"1\" class=\"dataframe\">\n",
       "  <thead>\n",
       "    <tr style=\"text-align: right;\">\n",
       "      <th></th>\n",
       "      <th>time</th>\n",
       "      <th>energy</th>\n",
       "    </tr>\n",
       "  </thead>\n",
       "  <tbody>\n",
       "    <tr>\n",
       "      <th>0</th>\n",
       "      <td>2023-07-12</td>\n",
       "      <td>621.1</td>\n",
       "    </tr>\n",
       "    <tr>\n",
       "      <th>1</th>\n",
       "      <td>2023-07-13</td>\n",
       "      <td>772.1</td>\n",
       "    </tr>\n",
       "    <tr>\n",
       "      <th>2</th>\n",
       "      <td>2023-07-14</td>\n",
       "      <td>972.8</td>\n",
       "    </tr>\n",
       "    <tr>\n",
       "      <th>3</th>\n",
       "      <td>2023-07-15</td>\n",
       "      <td>964.3</td>\n",
       "    </tr>\n",
       "    <tr>\n",
       "      <th>4</th>\n",
       "      <td>2023-07-16</td>\n",
       "      <td>643.0</td>\n",
       "    </tr>\n",
       "  </tbody>\n",
       "</table>\n",
       "</div>"
      ],
      "text/plain": [
       "         time  energy\n",
       "0  2023-07-12   621.1\n",
       "1  2023-07-13   772.1\n",
       "2  2023-07-14   972.8\n",
       "3  2023-07-15   964.3\n",
       "4  2023-07-16   643.0"
      ]
     },
     "execution_count": 3,
     "metadata": {},
     "output_type": "execute_result"
    }
   ],
   "source": [
    "tf.random.set_seed(0)\n",
    "data = pd.read_csv('dados_diarios_14Nov_outliers.csv')\n",
    "data = data.rename(columns={'Daily Power yields (kWh)': 'energy', 'inverterdatetime': 'time'})\n",
    "data.head()"
   ]
  },
  {
   "cell_type": "code",
   "execution_count": 4,
   "metadata": {},
   "outputs": [],
   "source": [
    "data_power = data['energy']\n",
    "data_power = np.array(data_power)"
   ]
  },
  {
   "cell_type": "code",
   "execution_count": 5,
   "metadata": {},
   "outputs": [
    {
     "data": {
      "text/plain": [
       "0    0.174908\n",
       "1    0.343454\n",
       "2    0.567474\n",
       "3    0.557986\n",
       "4    0.199353\n",
       "Name: energy, dtype: float64"
      ]
     },
     "execution_count": 5,
     "metadata": {},
     "output_type": "execute_result"
    }
   ],
   "source": [
    "scaler = MinMaxScaler()\n",
    "data_power = data_power.reshape(-1, 1)\n",
    "normalized_data = scaler.fit_transform(data_power)\n",
    "\n",
    "joblib.dump(scaler, 'meu_scaler_minmax.joblib')\n",
    "\n",
    "data_power = pd.Series(\n",
    "    [value for row in normalized_data for value in row], name=\"energy\"\n",
    ")\n",
    "\n",
    "data_power.head()"
   ]
  },
  {
   "cell_type": "code",
   "execution_count": 6,
   "metadata": {},
   "outputs": [
    {
     "name": "stdout",
     "output_type": "stream",
     "text": [
      "       energy    energy    energy\n",
      "3    0.567474  0.343454  0.174908\n",
      "4    0.557986  0.567474  0.343454\n",
      "5    0.199353  0.557986  0.567474\n",
      "6    0.000000  0.199353  0.557986\n",
      "7    0.412993  0.000000  0.199353\n",
      "..        ...       ...       ...\n",
      "119  0.429289  0.849090  0.953901\n",
      "120  0.525505  0.429289  0.849090\n",
      "121  0.851211  0.525505  0.429289\n",
      "122  0.461882  0.851211  0.525505\n",
      "123  0.510325  0.461882  0.851211\n",
      "\n",
      "[121 rows x 3 columns]\n",
      "       energy\n",
      "0    0.557986\n",
      "1    0.199353\n",
      "2    0.000000\n",
      "3    0.412993\n",
      "4    0.321464\n",
      "..        ...\n",
      "116  0.525505\n",
      "117  0.851211\n",
      "118  0.461882\n",
      "119  0.510325\n",
      "120  0.510325\n",
      "\n",
      "[121 rows x 1 columns]\n",
      "0      0.174908\n",
      "1      0.343454\n",
      "2      0.567474\n",
      "3      0.557986\n",
      "4      0.199353\n",
      "         ...   \n",
      "119    0.525505\n",
      "120    0.851211\n",
      "121    0.461882\n",
      "122    0.510325\n",
      "123    0.510325\n",
      "Name: energy, Length: 124, dtype: float64\n"
     ]
    }
   ],
   "source": [
    "X = pd.concat([data_power.shift(1), data_power.shift(2), data_power.shift(3),], axis=1)\n",
    "y = pd.concat([data_power.shift(-3)], axis=1)\n",
    "X.dropna(inplace=True)\n",
    "y.dropna(subset=[\"energy\"], inplace=True)\n",
    "print(X)\n",
    "print(y)\n",
    "print(data_power)\n",
    "X = X.to_numpy()\n",
    "y = y.to_numpy()\n",
    "y = y.flatten()\n",
    "X_train, X_test, y_train, y_test = train_test_split(\n",
    "    X, y, test_size=0.2, shuffle=False, stratify=None\n",
    ")"
   ]
  },
  {
   "cell_type": "code",
   "execution_count": 7,
   "metadata": {},
   "outputs": [
    {
     "name": "stdout",
     "output_type": "stream",
     "text": [
      "[[0.56747405 0.34345351 0.17490791]\n",
      " [0.55798638 0.56747405 0.34345351]\n",
      " [0.19935261 0.55798638 0.56747405]\n",
      " [0.         0.19935261 0.55798638]\n",
      " [0.41299252 0.         0.19935261]\n",
      " [0.32146445 0.41299252 0.        ]\n",
      " [0.49101462 0.32146445 0.41299252]\n",
      " [0.46165867 0.49101462 0.32146445]\n",
      " [0.5182498  0.46165867 0.49101462]\n",
      " [0.29902891 0.5182498  0.46165867]\n",
      " [0.50552517 0.29902891 0.5182498 ]\n",
      " [0.23384306 0.50552517 0.29902891]\n",
      " [0.33374261 0.23384306 0.50552517]\n",
      " [0.47695055 0.33374261 0.23384306]\n",
      " [0.47460654 0.47695055 0.33374261]\n",
      " [0.51958924 0.47460654 0.47695055]\n",
      " [0.54738252 0.51958924 0.47460654]\n",
      " [0.55564237 0.54738252 0.51958924]\n",
      " [0.50429735 0.55564237 0.54738252]\n",
      " [0.53901105 0.50429735 0.55564237]\n",
      " [0.53421141 0.53901105 0.50429735]\n",
      " [0.55140083 0.53421141 0.53901105]\n",
      " [0.53454627 0.55140083 0.53421141]\n",
      " [0.53923429 0.53454627 0.55140083]\n",
      " [0.54715928 0.53923429 0.53454627]\n",
      " [0.47773189 0.54715928 0.53923429]\n",
      " [0.3860922  0.47773189 0.54715928]\n",
      " [0.51769171 0.3860922  0.47773189]\n",
      " [0.5307512  0.51769171 0.3860922 ]\n",
      " [0.40183056 0.5307512  0.51769171]\n",
      " [0.29244335 0.40183056 0.5307512 ]\n",
      " [0.19187409 0.29244335 0.40183056]\n",
      " [0.22714589 0.19187409 0.29244335]\n",
      " [0.31443241 0.22714589 0.19187409]\n",
      " [0.50932024 0.31443241 0.22714589]\n",
      " [0.47784351 0.50932024 0.31443241]\n",
      " [0.049001   0.47784351 0.50932024]\n",
      " [0.34189084 0.049001   0.47784351]\n",
      " [0.65598839 0.34189084 0.049001  ]\n",
      " [0.63712468 0.65598839 0.34189084]\n",
      " [0.5261748  0.63712468 0.65598839]\n",
      " [0.36521933 0.5261748  0.63712468]\n",
      " [0.59303494 0.36521933 0.5261748 ]\n",
      " [0.51032481 0.59303494 0.36521933]\n",
      " [0.51032481 0.51032481 0.59303494]\n",
      " [0.43877665 0.51032481 0.51032481]\n",
      " [0.11407523 0.43877665 0.51032481]\n",
      " [0.51132939 0.11407523 0.43877665]\n",
      " [0.3803996  0.51132939 0.11407523]\n",
      " [0.46578859 0.3803996  0.51132939]\n",
      " [0.37493024 0.46578859 0.3803996 ]\n",
      " [0.54861034 0.37493024 0.46578859]\n",
      " [0.51947762 0.54861034 0.37493024]\n",
      " [0.201585   0.51947762 0.54861034]\n",
      " [0.64538453 0.201585   0.51947762]\n",
      " [0.78100234 0.64538453 0.201585  ]\n",
      " [0.51032481 0.78100234 0.64538453]\n",
      " [0.79874986 0.51032481 0.78100234]\n",
      " [0.82643152 0.79874986 0.51032481]\n",
      " [0.73892175 0.82643152 0.79874986]\n",
      " [0.51032481 0.73892175 0.82643152]\n",
      " [0.62440004 0.51032481 0.73892175]\n",
      " [0.83591919 0.62440004 0.51032481]\n",
      " [0.749414   0.83591919 0.62440004]\n",
      " [0.2340663  0.749414   0.83591919]\n",
      " [0.67518696 0.2340663  0.749414  ]\n",
      " [0.6326599  0.67518696 0.2340663 ]\n",
      " [0.63388771 0.6326599  0.67518696]\n",
      " [0.65174685 0.63388771 0.6326599 ]\n",
      " [0.54559661 0.65174685 0.63388771]\n",
      " [0.74026119 0.54559661 0.65174685]\n",
      " [0.6594486  0.74026119 0.54559661]\n",
      " [0.71347249 0.6594486  0.74026119]\n",
      " [0.37247461 0.71347249 0.6594486 ]\n",
      " [0.5814265  0.37247461 0.71347249]\n",
      " [0.60553633 0.5814265  0.37247461]\n",
      " [0.60743387 0.60553633 0.5814265 ]\n",
      " [0.18383748 0.60743387 0.60553633]\n",
      " [0.2010269  0.18383748 0.60743387]\n",
      " [0.69204152 0.2010269  0.18383748]\n",
      " [0.21218886 0.69204152 0.2010269 ]\n",
      " [0.72709008 0.21218886 0.69204152]\n",
      " [0.58790044 0.72709008 0.21218886]\n",
      " [0.32191093 0.58790044 0.72709008]\n",
      " [0.09409532 0.32191093 0.58790044]\n",
      " [0.14912379 0.09409532 0.32191093]\n",
      " [0.92566135 0.14912379 0.09409532]\n",
      " [0.91226699 0.92566135 0.14912379]\n",
      " [0.36287532 0.91226699 0.92566135]\n",
      " [0.04877777 0.36287532 0.91226699]\n",
      " [0.51032481 0.04877777 0.36287532]\n",
      " [0.84518361 0.51032481 0.04877777]\n",
      " [0.62562786 0.84518361 0.51032481]\n",
      " [0.09420694 0.62562786 0.84518361]\n",
      " [0.03214644 0.09420694 0.62562786]\n",
      " [0.54827548 0.03214644 0.09420694]\n",
      " [0.36823306 0.54827548 0.03214644]\n",
      " [0.69081371 0.36823306 0.54827548]\n",
      " [0.57897087 0.69081371 0.36823306]\n",
      " [0.62562786 0.57897087 0.69081371]\n",
      " [0.60408528 0.62562786 0.57897087]\n",
      " [0.60408528 0.60408528 0.62562786]\n",
      " [0.48554526 0.60408528 0.60408528]\n",
      " [0.3023775  0.48554526 0.60408528]\n",
      " [0.23060609 0.3023775  0.48554526]\n",
      " [0.34769506 0.23060609 0.3023775 ]\n",
      " [0.21397477 0.34769506 0.23060609]\n",
      " [0.18796741 0.21397477 0.34769506]\n",
      " [0.63891059 0.18796741 0.21397477]\n",
      " [0.69583659 0.63891059 0.18796741]\n",
      " [0.42348476 0.69583659 0.63891059]\n",
      " [0.7141422  0.42348476 0.69583659]\n",
      " [0.99776761 0.7141422  0.42348476]\n",
      " [1.         0.99776761 0.7141422 ]\n",
      " [0.95390111 1.         0.99776761]\n",
      " [0.8490903  0.95390111 1.        ]\n",
      " [0.42928898 0.8490903  0.95390111]\n",
      " [0.52550508 0.42928898 0.8490903 ]\n",
      " [0.85121107 0.52550508 0.42928898]\n",
      " [0.46188191 0.85121107 0.52550508]\n",
      " [0.51032481 0.46188191 0.85121107]]\n",
      "[0.55798638 0.19935261 0.         0.41299252 0.32146445 0.49101462\n",
      " 0.46165867 0.5182498  0.29902891 0.50552517 0.23384306 0.33374261\n",
      " 0.47695055 0.47460654 0.51958924 0.54738252 0.55564237 0.50429735\n",
      " 0.53901105 0.53421141 0.55140083 0.53454627 0.53923429 0.54715928\n",
      " 0.47773189 0.3860922  0.51769171 0.5307512  0.40183056 0.29244335\n",
      " 0.19187409 0.22714589 0.31443241 0.50932024 0.47784351 0.049001\n",
      " 0.34189084 0.65598839 0.63712468 0.5261748  0.36521933 0.59303494\n",
      " 0.51032481 0.51032481 0.43877665 0.11407523 0.51132939 0.3803996\n",
      " 0.46578859 0.37493024 0.54861034 0.51947762 0.201585   0.64538453\n",
      " 0.78100234 0.51032481 0.79874986 0.82643152 0.73892175 0.51032481\n",
      " 0.62440004 0.83591919 0.749414   0.2340663  0.67518696 0.6326599\n",
      " 0.63388771 0.65174685 0.54559661 0.74026119 0.6594486  0.71347249\n",
      " 0.37247461 0.5814265  0.60553633 0.60743387 0.18383748 0.2010269\n",
      " 0.69204152 0.21218886 0.72709008 0.58790044 0.32191093 0.09409532\n",
      " 0.14912379 0.92566135 0.91226699 0.36287532 0.04877777 0.51032481\n",
      " 0.84518361 0.62562786 0.09420694 0.03214644 0.54827548 0.36823306\n",
      " 0.69081371 0.57897087 0.62562786 0.60408528 0.60408528 0.48554526\n",
      " 0.3023775  0.23060609 0.34769506 0.21397477 0.18796741 0.63891059\n",
      " 0.69583659 0.42348476 0.7141422  0.99776761 1.         0.95390111\n",
      " 0.8490903  0.42928898 0.52550508 0.85121107 0.46188191 0.51032481\n",
      " 0.51032481]\n"
     ]
    }
   ],
   "source": [
    "print(X)\n",
    "\n",
    "print(y)"
   ]
  },
  {
   "cell_type": "code",
   "execution_count": 8,
   "metadata": {},
   "outputs": [
    {
     "name": "stdout",
     "output_type": "stream",
     "text": [
      "Model: \"model\"\n",
      "_________________________________________________________________\n",
      " Layer (type)                Output Shape              Param #   \n",
      "=================================================================\n",
      " input_1 (InputLayer)        [(None, 3)]               0         \n",
      "                                                                 \n",
      " dense (Dense)               (None, 32)                128       \n",
      "                                                                 \n",
      " dense_1 (Dense)             (None, 32)                1056      \n",
      "                                                                 \n",
      " dense_2 (Dense)             (None, 1)                 33        \n",
      "                                                                 \n",
      "=================================================================\n",
      "Total params: 1217 (4.75 KB)\n",
      "Trainable params: 0 (0.00 Byte)\n",
      "Non-trainable params: 1217 (4.75 KB)\n",
      "_________________________________________________________________\n",
      "None\n"
     ]
    }
   ],
   "source": [
    "model = tf.keras.models.load_model('modelo_australia.h5')\n",
    "model.trainable = False\n",
    "print(model.summary())"
   ]
  },
  {
   "cell_type": "code",
   "execution_count": 9,
   "metadata": {},
   "outputs": [],
   "source": [
    "for layer in model.layers:\n",
    "    layer.trainable = False"
   ]
  },
  {
   "cell_type": "code",
   "execution_count": 10,
   "metadata": {},
   "outputs": [
    {
     "name": "stdout",
     "output_type": "stream",
     "text": [
      "Model: \"model\"\n",
      "_________________________________________________________________\n",
      " Layer (type)                Output Shape              Param #   \n",
      "=================================================================\n",
      " input_1 (InputLayer)        [(None, 3)]               0         \n",
      "                                                                 \n",
      " dense (Dense)               (None, 32)                128       \n",
      "                                                                 \n",
      " dense_1 (Dense)             (None, 32)                1056      \n",
      "                                                                 \n",
      " output (Dense)              (None, 1)                 33        \n",
      "                                                                 \n",
      "=================================================================\n",
      "Total params: 1217 (4.75 KB)\n",
      "Trainable params: 33 (132.00 Byte)\n",
      "Non-trainable params: 1184 (4.62 KB)\n",
      "_________________________________________________________________\n",
      "weights: 0\n",
      "trainable_weights: 0\n",
      "non_trainable_weights: 0\n",
      "weights: 2\n",
      "trainable_weights: 0\n",
      "non_trainable_weights: 2\n",
      "weights: 2\n",
      "trainable_weights: 0\n",
      "non_trainable_weights: 2\n",
      "weights: 2\n",
      "trainable_weights: 2\n",
      "non_trainable_weights: 0\n"
     ]
    }
   ],
   "source": [
    "base_inputs = model.layers[0].input\n",
    "base_outputs = model.layers[-2].output\n",
    "\n",
    "output = layers.Dense(1, name='output')(base_outputs)\n",
    "new_model = tf.keras.Model(inputs=base_inputs, outputs=output)\n",
    "new_model.summary()\n",
    "\n",
    "\n",
    "for layer in new_model.layers:\n",
    "    print(\"weights:\", len(layer.weights))\n",
    "    print(\"trainable_weights:\", len(layer.trainable_weights))\n",
    "    print(\"non_trainable_weights:\", len(layer.non_trainable_weights))\n",
    "\n"
   ]
  },
  {
   "cell_type": "code",
   "execution_count": 11,
   "metadata": {},
   "outputs": [],
   "source": [
    "y_train = np.array(y_train).astype('float32')"
   ]
  },
  {
   "cell_type": "code",
   "execution_count": 12,
   "metadata": {},
   "outputs": [
    {
     "name": "stdout",
     "output_type": "stream",
     "text": [
      "Epoch 1/20\n",
      "3/3 [==============================] - 0s 63ms/step - loss: 0.0330 - val_loss: 0.1042\n",
      "Epoch 2/20\n",
      "3/3 [==============================] - 0s 11ms/step - loss: 0.0325 - val_loss: 0.1030\n",
      "Epoch 3/20\n",
      "3/3 [==============================] - 0s 11ms/step - loss: 0.0323 - val_loss: 0.1021\n",
      "Epoch 4/20\n",
      "3/3 [==============================] - 0s 11ms/step - loss: 0.0322 - val_loss: 0.1014\n",
      "Epoch 5/20\n",
      "3/3 [==============================] - 0s 11ms/step - loss: 0.0321 - val_loss: 0.1010\n",
      "Epoch 6/20\n",
      "3/3 [==============================] - 0s 11ms/step - loss: 0.0320 - val_loss: 0.1007\n",
      "Epoch 7/20\n",
      "3/3 [==============================] - 0s 11ms/step - loss: 0.0319 - val_loss: 0.1007\n",
      "Epoch 8/20\n",
      "3/3 [==============================] - 0s 12ms/step - loss: 0.0317 - val_loss: 0.1007\n",
      "Epoch 9/20\n",
      "3/3 [==============================] - 0s 11ms/step - loss: 0.0316 - val_loss: 0.1006\n",
      "Epoch 10/20\n",
      "3/3 [==============================] - 0s 11ms/step - loss: 0.0315 - val_loss: 0.1006\n",
      "Epoch 11/20\n",
      "3/3 [==============================] - 0s 11ms/step - loss: 0.0315 - val_loss: 0.1003\n",
      "Epoch 12/20\n",
      "3/3 [==============================] - 0s 12ms/step - loss: 0.0313 - val_loss: 0.0997\n",
      "Epoch 13/20\n",
      "3/3 [==============================] - 0s 11ms/step - loss: 0.0313 - val_loss: 0.0990\n",
      "Epoch 14/20\n",
      "3/3 [==============================] - 0s 12ms/step - loss: 0.0312 - val_loss: 0.0984\n",
      "Epoch 15/20\n",
      "3/3 [==============================] - 0s 12ms/step - loss: 0.0311 - val_loss: 0.0980\n",
      "Epoch 16/20\n",
      "3/3 [==============================] - 0s 11ms/step - loss: 0.0311 - val_loss: 0.0977\n",
      "Epoch 17/20\n",
      "3/3 [==============================] - 0s 11ms/step - loss: 0.0311 - val_loss: 0.0975\n",
      "Epoch 18/20\n",
      "3/3 [==============================] - 0s 12ms/step - loss: 0.0310 - val_loss: 0.0973\n",
      "Epoch 19/20\n",
      "3/3 [==============================] - 0s 11ms/step - loss: 0.0310 - val_loss: 0.0973\n",
      "Epoch 20/20\n",
      "3/3 [==============================] - 0s 11ms/step - loss: 0.0308 - val_loss: 0.0973\n"
     ]
    },
    {
     "name": "stderr",
     "output_type": "stream",
     "text": [
      "c:\\Users\\crist\\AppData\\Local\\Programs\\Python\\Python310\\lib\\site-packages\\keras\\src\\engine\\training.py:3079: UserWarning: You are saving your model as an HDF5 file via `model.save()`. This file format is considered legacy. We recommend using instead the native Keras format, e.g. `model.save('my_model.keras')`.\n",
      "  saving_api.save_model(\n"
     ]
    },
    {
     "data": {
      "image/png": "[encoded data removed]",
      "text/plain": [
       "<Figure size 432x288 with 1 Axes>"
      ]
     },
     "metadata": {
      "needs_background": "light"
     },
     "output_type": "display_data"
    }
   ],
   "source": [
    "new_model.compile(optimizer='adam', loss='mean_squared_error')\n",
    "\n",
    "\n",
    "history = new_model.fit(X_train, y_train, epochs=20, batch_size=32, validation_split=0.3)\n",
    "new_model.save('modelo.h5')\n",
    "# Plotar a curva de aprendizado\n",
    "plt.plot(history.history['loss'], label='Training Loss')\n",
    "if 'val_loss' in history.history:\n",
    "    plt.plot(history.history['val_loss'], label='Validation Loss')\n",
    "plt.title('Curva de Aprendizado')\n",
    "plt.xlabel('Épocas')\n",
    "plt.ylabel('Loss')\n",
    "plt.legend()\n",
    "plt.show()"
   ]
  },
  {
   "cell_type": "markdown",
   "metadata": {},
   "source": [
    "### Teste as cegas"
   ]
  },
  {
   "cell_type": "code",
   "execution_count": 13,
   "metadata": {},
   "outputs": [
    {
     "name": "stdout",
     "output_type": "stream",
     "text": [
      "1/1 [==============================] - 0s 73ms/step\n",
      "0.15054623229799827\n",
      "134.87436279296872\n",
      "[ 990.2423   967.08575  995.7529   984.64954  984.15906  918.19824\n",
      "  794.81335  710.818    752.97516  687.2359   655.5072   904.55817\n",
      " 1006.1703   899.4811  1020.63464 1186.5538  1238.4108  1226.9567\n",
      " 1171.4417   940.8046   929.26794 1089.1257   936.54785  925.79266\n",
      "  796.3846 ]\n"
     ]
    },
    {
     "data": {
      "image/png": "[encoded data removed]",
      "text/plain": [
       "<Figure size 432x288 with 1 Axes>"
      ]
     },
     "metadata": {
      "needs_background": "light"
     },
     "output_type": "display_data"
    }
   ],
   "source": [
    "predicoes = new_model.predict(X_test)\n",
    "rmse = np.mean(((predicoes.reshape(1,-1).flatten() - y_test)**2)**0.5)\n",
    "print(rmse)\n",
    "predicoes = scaler.inverse_transform(predicoes)\n",
    "# print('Presições: ', predicoes)\n",
    "\n",
    "real = scaler.inverse_transform(y_test.reshape(-1,1))\n",
    "# print('Real: ', real.reshape(1,-1))\n",
    "\n",
    "erro_vetor = ((predicoes - real)**2)**0.5\n",
    "erro = np.mean(((predicoes - real)**2)**0.5)\n",
    "print(erro)\n",
    "# print('previsão mais erro: ', np.roll(predicoes, -1) + erro)\n",
    "\n",
    "indices = np.arange(len(X_test))\n",
    "print(np.roll(predicoes, -1).reshape(1,-1).flatten())\n",
    "\n",
    "plt.plot(indices,predicoes, label='Predito', marker='x')\n",
    "plt.fill_between(indices, (predicoes + erro).reshape(1,-1).flatten(), (predicoes - erro).reshape(1,-1).flatten(),color='blue', alpha=0.2, label='Área entre as Curvas' )\n",
    "plt.plot(indices,real, label= 'Real', marker='o')\n",
    "plt.xlabel('Índice')\n",
    "plt.ylabel('Valor')\n",
    "plt.title('Valores Reais vs. Preditos')\n",
    "plt.legend()\n",
    "plt.show()"
   ]
  },
  {
   "cell_type": "code",
   "execution_count": 14,
   "metadata": {},
   "outputs": [
    {
     "name": "stdout",
     "output_type": "stream",
     "text": [
      "11\n",
      "Fora da margem: 44.0 %\n"
     ]
    }
   ],
   "source": [
    "c = 0\n",
    "for r, p in zip(real, predicoes):\n",
    "    margem_up = r + erro\n",
    "    margem_down = (r - erro)\n",
    "    if p > margem_up or p < margem_down:\n",
    "        c = c + 1\n",
    "\n",
    "tam = len(predicoes)\n",
    "print(c)\n",
    "\n",
    "porcentagem = ((c / tam ))*100\n",
    "print(f'Fora da margem: {porcentagem} %')"
   ]
  },
  {
   "cell_type": "code",
   "execution_count": 15,
   "metadata": {},
   "outputs": [
    {
     "name": "stdout",
     "output_type": "stream",
     "text": [
      "134.87436279296872\n",
      "0.15054623229799827\n"
     ]
    }
   ],
   "source": [
    "print(erro)\n",
    "print(rmse)"
   ]
  },
  {
   "cell_type": "code",
   "execution_count": 16,
   "metadata": {},
   "outputs": [
    {
     "name": "stdout",
     "output_type": "stream",
     "text": [
      "1/1 [==============================] - 0s 58ms/step\n",
      "Entrada: [[0.46188191]\n",
      " [0.51032481]\n",
      " [0.51032481]]\n",
      "Previsão: [[884.3912963867188]]\n"
     ]
    }
   ],
   "source": [
    "\n",
    "entrada_lista = [878.2, 921.6, 921.6]\n",
    "entrada_lista = scaler.transform(np.array(entrada_lista).reshape(-1,1))\n",
    "entrada_array = np.array([entrada_lista])\n",
    "previsao = new_model.predict([entrada_array])\n",
    "\n",
    "\n",
    "previsao_lista = scaler.inverse_transform(previsao).tolist()\n",
    "\n",
    "print(f'Entrada: {entrada_lista}')\n",
    "print(f'Previsão: {previsao_lista}')\n",
    "\n"
   ]
  }
 ],
 "metadata": {
  "kernelspec": {
   "display_name": "tf-gpu-py310",
   "language": "python",
   "name": "python3"
  },
  "language_info": {
   "codemirror_mode": {
    "name": "ipython",
    "version": 3
   },
   "file_extension": ".py",
   "mimetype": "text/x-python",
   "name": "python",
   "nbconvert_exporter": "python",
   "pygments_lexer": "ipython3",
   "version": "3.10.2"
  }
 },
 "nbformat": 4,
 "nbformat_minor": 2
}
